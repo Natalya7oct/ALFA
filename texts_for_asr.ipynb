{
 "cells": [
  {
   "cell_type": "code",
   "execution_count": 1,
   "metadata": {},
   "outputs": [],
   "source": [
    "import pandas as pd"
   ]
  },
  {
   "cell_type": "code",
   "execution_count": 146,
   "metadata": {},
   "outputs": [],
   "source": [
    "df=pd.read_csv('test_asr.csv')"
   ]
  },
  {
   "cell_type": "code",
   "execution_count": 151,
   "metadata": {
    "scrolled": true
   },
   "outputs": [
    {
     "data": {
      "text/html": [
       "<div>\n",
       "<style scoped>\n",
       "    .dataframe tbody tr th:only-of-type {\n",
       "        vertical-align: middle;\n",
       "    }\n",
       "\n",
       "    .dataframe tbody tr th {\n",
       "        vertical-align: top;\n",
       "    }\n",
       "\n",
       "    .dataframe thead th {\n",
       "        text-align: right;\n",
       "    }\n",
       "</style>\n",
       "<table border=\"1\" class=\"dataframe\">\n",
       "  <thead>\n",
       "    <tr style=\"text-align: right;\">\n",
       "      <th></th>\n",
       "      <th>text</th>\n",
       "      <th>txt</th>\n",
       "      <th>ind</th>\n",
       "    </tr>\n",
       "  </thead>\n",
       "  <tbody>\n",
       "    <tr>\n",
       "      <th>0</th>\n",
       "      <td>1. У меня есть менеджер Борисов Борис Борисови...</td>\n",
       "      <td>У меня есть менеджер Борисов Борис Борисович,...</td>\n",
       "      <td>1</td>\n",
       "    </tr>\n",
       "    <tr>\n",
       "      <th>1</th>\n",
       "      <td>2. Нужно внутренний номер назвать? У нас по-мо...</td>\n",
       "      <td>Нужно внутренний номер назвать? У нас по-моем...</td>\n",
       "      <td>2</td>\n",
       "    </tr>\n",
       "    <tr>\n",
       "      <th>2</th>\n",
       "      <td>3. Мне нужен наш персональный менеджер Борисов...</td>\n",
       "      <td>Мне нужен наш персональный менеджер Борисов Б...</td>\n",
       "      <td>3</td>\n",
       "    </tr>\n",
       "    <tr>\n",
       "      <th>3</th>\n",
       "      <td>4. Можно соединить с Борисов Борис Борисович?</td>\n",
       "      <td>Можно соединить с Борисов Борис Борисович?</td>\n",
       "      <td>4</td>\n",
       "    </tr>\n",
       "    <tr>\n",
       "      <th>4</th>\n",
       "      <td>5. Можете соединить или дать прямой телефон. З...</td>\n",
       "      <td>Можете соединить или дать прямой телефон</td>\n",
       "      <td>5</td>\n",
       "    </tr>\n",
       "  </tbody>\n",
       "</table>\n",
       "</div>"
      ],
      "text/plain": [
       "                                                text  \\\n",
       "0  1. У меня есть менеджер Борисов Борис Борисови...   \n",
       "1  2. Нужно внутренний номер назвать? У нас по-мо...   \n",
       "2  3. Мне нужен наш персональный менеджер Борисов...   \n",
       "3      4. Можно соединить с Борисов Борис Борисович?   \n",
       "4  5. Можете соединить или дать прямой телефон. З...   \n",
       "\n",
       "                                                 txt ind  \n",
       "0   У меня есть менеджер Борисов Борис Борисович,...   1  \n",
       "1   Нужно внутренний номер назвать? У нас по-моем...   2  \n",
       "2   Мне нужен наш персональный менеджер Борисов Б...   3  \n",
       "3         Можно соединить с Борисов Борис Борисович?   4  \n",
       "4           Можете соединить или дать прямой телефон   5  "
      ]
     },
     "execution_count": 151,
     "metadata": {},
     "output_type": "execute_result"
    }
   ],
   "source": [
    "df.head()"
   ]
  },
  {
   "cell_type": "code",
   "execution_count": 148,
   "metadata": {},
   "outputs": [],
   "source": [
    "def new_cols(df):\n",
    "    df['txt']=0\n",
    "    df['ind']=0\n",
    "    for i in range(len(df)):\n",
    "        df['ind'].iloc[i]=df['text'].tolist()[i].split('.')[0]\n",
    "    for i in range(len(df)):\n",
    "        df['txt'].iloc[i]=df['text'].tolist()[i].split('.')[1]"
   ]
  },
  {
   "cell_type": "code",
   "execution_count": 144,
   "metadata": {},
   "outputs": [],
   "source": [
    "def new_txt(i):\n",
    "    name=str(i+1)\n",
    "    f=open(name + \".txt\",\"w\")\n",
    "    st=df['txt'].iloc[i]\n",
    "    f.write(st)"
   ]
  },
  {
   "cell_type": "code",
   "execution_count": 133,
   "metadata": {},
   "outputs": [],
   "source": [
    "new_cols(df)\n",
    "for i in range(len(df)):\n",
    "    new_txt(i)"
   ]
  }
 ],
 "metadata": {
  "kernelspec": {
   "display_name": "Python 3",
   "language": "python",
   "name": "python3"
  },
  "language_info": {
   "codemirror_mode": {
    "name": "ipython",
    "version": 3
   },
   "file_extension": ".py",
   "mimetype": "text/x-python",
   "name": "python",
   "nbconvert_exporter": "python",
   "pygments_lexer": "ipython3",
   "version": "3.7.6"
  }
 },
 "nbformat": 4,
 "nbformat_minor": 4
}
